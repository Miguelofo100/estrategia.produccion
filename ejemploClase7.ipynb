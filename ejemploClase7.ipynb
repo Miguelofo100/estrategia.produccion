{
  "nbformat": 4,
  "nbformat_minor": 0,
  "metadata": {
    "colab": {
      "provenance": [],
      "toc_visible": true,
      "include_colab_link": true
    },
    "kernelspec": {
      "name": "python3",
      "display_name": "Python 3"
    },
    "language_info": {
      "name": "python"
    }
  },
  "cells": [
    {
      "cell_type": "markdown",
      "metadata": {
        "id": "view-in-github",
        "colab_type": "text"
      },
      "source": [
        "<a href=\"https://colab.research.google.com/github/Miugleofo100/estrategia.produccion/blob/main/ejemploClase7.ipynb\" target=\"_parent\"><img src=\"https://colab.research.google.com/assets/colab-badge.svg\" alt=\"Open In Colab\"/></a>"
      ]
    },
    {
      "cell_type": "markdown",
      "source": [
        "<font size=6 color=\"#0098CD\">\n",
        "Programación lineal entera (PLE)\n",
        "</font>"
      ],
      "metadata": {
        "id": "JgKYStznHyuN"
      }
    },
    {
      "cell_type": "markdown",
      "source": [
        "---\n",
        "\n",
        "##Diseño de un sistema de distribución\n",
        "---\n",
        "\n",
        "Anderson et al. (2011). *Métodos cuantitativos para los negocios. 11a ed*. CENGAGE Learning. Pág. 491."
      ],
      "metadata": {
        "id": "ohGhL7aTIN5x"
      }
    },
    {
      "cell_type": "code",
      "source": [
        "%%capture\n",
        "!pip install -q pyomo\n",
        "!apt-get install -y -qq coinor-cbc"
      ],
      "metadata": {
        "id": "grMAwcxbkQij"
      },
      "execution_count": null,
      "outputs": []
    },
    {
      "cell_type": "code",
      "source": [
        "from pyomo.environ import *\n",
        "\n",
        "# Crear un modelo\n",
        "model = ConcreteModel()\n",
        "\n",
        "# Declarar las variables de decisión\n",
        "model.x11 = Var(domain=NonNegativeIntegers)\n",
        "model.x12 = Var(domain=NonNegativeIntegers)\n",
        "model.x13 = Var(domain=NonNegativeIntegers)\n",
        "\n",
        "model.x21 = Var(domain=NonNegativeIntegers)\n",
        "model.x22 = Var(domain=NonNegativeIntegers)\n",
        "model.x23 = Var(domain=NonNegativeIntegers)\n",
        "\n",
        "model.x31 = Var(domain=NonNegativeIntegers)\n",
        "model.x32 = Var(domain=NonNegativeIntegers)\n",
        "model.x33 = Var(domain=NonNegativeIntegers)\n",
        "\n",
        "model.x41 = Var(domain=NonNegativeIntegers)\n",
        "model.x42 = Var(domain=NonNegativeIntegers)\n",
        "model.x43 = Var(domain=NonNegativeIntegers)\n",
        "\n",
        "model.x51 = Var(domain=NonNegativeIntegers)\n",
        "model.x52 = Var(domain=NonNegativeIntegers)\n",
        "model.x53 = Var(domain=NonNegativeIntegers)\n",
        "\n",
        "model.y1 = Var(domain=Binary)\n",
        "model.y2 = Var(domain=Binary)\n",
        "model.y3 = Var(domain=Binary)\n",
        "model.y4 = Var(domain=Binary)\n",
        "\n",
        "# Definir la función objetivo\n",
        "model.profit = Objective(expr=5*model.x11 + 2*model.x12 + 3*model.x13 + \n",
        "                         4*model.x21 + 3*model.x22 + 4*model.x23 + \n",
        "                         9*model.x31 + 7*model.x32 + 5*model.x33 + \n",
        "                         10*model.x41 + 4*model.x42 + 2*model.x43 + \n",
        "                         8*model.x51 + 4*model.x52 + 3*model.x53 + \n",
        "                         175*model.y1 + 300*model.y2 + 375*model.y3 + 500*model.y4,\n",
        "                         sense=minimize) \n",
        "\n",
        "# Definir las restricciones\n",
        "model.capacidad_Detroit = Constraint(expr=model.x11 + model.x12 + model.x13 - 10*model.y1  <= 0)\n",
        "model.capacidad_Toledo = Constraint(expr=model.x21 + model.x22 + model.x23 - 20*model.y2  <= 0)\n",
        "model.capacidad_Denver = Constraint(expr=model.x31 + model.x32 + model.x33 - 30*model.y3  <= 0)\n",
        "model.capacidad_KansasCity = Constraint(expr=model.x41 + model.x42 + model.x43 - 40*model.y4  <= 0)\n",
        "model.capacidad_StLouis = Constraint(expr=model.x51 + model.x52 + model.x53 <= 30)\n",
        "\n",
        "model.demanda_Boston = Constraint(expr=model.x11 + model.x21 + model.x31 + model.x41 + model.x51 == 30)\n",
        "model.demanda_Atlanta = Constraint(expr=model.x12 + model.x22 + model.x32 + model.x42 + model.x52 == 20)\n",
        "model.demanda_Houston = Constraint(expr=model.x13 + model.x23 + model.x33 + model.x43 + model.x53 == 20)\n",
        "\n",
        "# Verificar el modelo\n",
        "model.pprint()"
      ],
      "metadata": {
        "id": "9IL5s-XZOFFe"
      },
      "execution_count": null,
      "outputs": []
    },
    {
      "cell_type": "code",
      "source": [
        "# Resolver el modelo\n",
        "%%capture\n",
        "SolverFactory('cbc').solve(model, tee=True).write()"
      ],
      "metadata": {
        "id": "SBUGjjkmO_2n"
      },
      "execution_count": null,
      "outputs": []
    },
    {
      "cell_type": "code",
      "source": [
        "# Mostrar la solución\n",
        "print(\"---------------------------------------------\")\n",
        "print(\"Solución\")\n",
        "print(\"---------------------------------------------\")\n",
        "\n",
        "print('\\nFunción objetivo:')\n",
        "print('Z = ', model.profit())\n",
        "\n",
        "print('\\nVariables de decisión:')\n",
        "print('x11 = ', model.x11.value)\n",
        "print('x12 = ', model.x12.value)\n",
        "print('x13 = ', model.x13.value)\n",
        "print('x21 = ', model.x21.value)\n",
        "print('x22 = ', model.x22.value)\n",
        "print('x23 = ', model.x23.value)\n",
        "print('x31 = ', model.x31.value)\n",
        "print('x32 = ', model.x32.value)\n",
        "print('x33 = ', model.x33.value)\n",
        "print('x41 = ', model.x41.value)\n",
        "print('x42 = ', model.x42.value)\n",
        "print('x43 = ', model.x43.value)\n",
        "print('x51 = ', model.x51.value)\n",
        "print('x52 = ', model.x52.value)\n",
        "print('x53 = ', model.x53.value)\n",
        "print()\n",
        "\n",
        "print('y1 = ', model.y1.value)\n",
        "print('y2 = ', model.y2.value)\n",
        "print('y3 = ', model.y3.value)\n",
        "print('y4 = ', model.y4.value)\n",
        "\n",
        "print(\"---------------------------------------------\")"
      ],
      "metadata": {
        "id": "Pc4AE_TKPS2W"
      },
      "execution_count": null,
      "outputs": []
    }
  ]
}