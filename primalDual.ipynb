{
  "nbformat": 4,
  "nbformat_minor": 0,
  "metadata": {
    "colab": {
      "provenance": [],
      "include_colab_link": true
    },
    "kernelspec": {
      "name": "python3",
      "display_name": "Python 3"
    },
    "language_info": {
      "name": "python"
    }
  },
  "cells": [
    {
      "cell_type": "markdown",
      "metadata": {
        "id": "view-in-github",
        "colab_type": "text"
      },
      "source": [
        "<a href=\"https://colab.research.google.com/github/Miugleofo100/estrategia.produccion/blob/main-3/primalDual.ipynb\" target=\"_parent\"><img src=\"https://colab.research.google.com/assets/colab-badge.svg\" alt=\"Open In Colab\"/></a>"
      ]
    },
    {
      "cell_type": "markdown",
      "source": [
        "<font size=6 color=\"#0098CD\">\n",
        "Dualidad\n",
        "</font>"
      ],
      "metadata": {
        "id": "JgKYStznHyuN"
      }
    },
    {
      "cell_type": "markdown",
      "source": [
        "---\n",
        "\n",
        "##1. Problema primal\n",
        "---"
      ],
      "metadata": {
        "id": "ohGhL7aTIN5x"
      }
    },
    {
      "cell_type": "code",
      "source": [
        "%%capture\n",
        "!pip install -q pyomo\n",
        "!apt-get install -y -qq coinor-cbc"
      ],
      "metadata": {
        "id": "grMAwcxbkQij"
      },
      "execution_count": null,
      "outputs": []
    },
    {
      "cell_type": "code",
      "source": [
        "from pyomo.environ import *\n",
        "\n",
        "# Crear un modelo\n",
        "model = ConcreteModel()\n",
        "\n",
        "# Declarar las variables de decisión\n",
        "model.x1 = Var(domain=NonNegativeReals)\n",
        "model.x2 = Var(domain=NonNegativeReals)\n",
        "model.x3 = Var(domain=NonNegativeReals)\n",
        "\n",
        "# Definir la función objetivo\n",
        "model.profit = Objective(expr = 5*model.x1 + 2*model.x2 + 3*model.x3, sense=maximize)\n",
        "\n",
        "# Definir las restricciones\n",
        "model.r1 = Constraint(expr = model.x1 + 5*model.x2 + 2*model.x3 == 30)\n",
        "model.r2 = Constraint(expr = model.x1 - 5*model.x2 - 6*model.x3 <= 40)\n",
        "\n",
        "# Verificar el modelo\n",
        "model.pprint()"
      ],
      "metadata": {
        "id": "9IL5s-XZOFFe",
        "colab": {
          "base_uri": "https://localhost:8080/"
        },
        "outputId": "4a515d00-a52d-4a65-e4fc-10ce85b07bd4"
      },
      "execution_count": null,
      "outputs": [
        {
          "output_type": "stream",
          "name": "stdout",
          "text": [
            "3 Var Declarations\n",
            "    x1 : Size=1, Index=None\n",
            "        Key  : Lower : Value : Upper : Fixed : Stale : Domain\n",
            "        None :     0 :  None :  None : False :  True : NonNegativeReals\n",
            "    x2 : Size=1, Index=None\n",
            "        Key  : Lower : Value : Upper : Fixed : Stale : Domain\n",
            "        None :     0 :  None :  None : False :  True : NonNegativeReals\n",
            "    x3 : Size=1, Index=None\n",
            "        Key  : Lower : Value : Upper : Fixed : Stale : Domain\n",
            "        None :     0 :  None :  None : False :  True : NonNegativeReals\n",
            "\n",
            "1 Objective Declarations\n",
            "    profit : Size=1, Index=None, Active=True\n",
            "        Key  : Active : Sense    : Expression\n",
            "        None :   True : maximize : 5*x1 + 2*x2 + 3*x3\n",
            "\n",
            "2 Constraint Declarations\n",
            "    r1 : Size=1, Index=None, Active=True\n",
            "        Key  : Lower : Body             : Upper : Active\n",
            "        None :  30.0 : x1 + 5*x2 + 2*x3 :  30.0 :   True\n",
            "    r2 : Size=1, Index=None, Active=True\n",
            "        Key  : Lower : Body             : Upper : Active\n",
            "        None :  -Inf : x1 - 5*x2 - 6*x3 :  40.0 :   True\n",
            "\n",
            "6 Declarations: x1 x2 x3 profit r1 r2\n"
          ]
        }
      ]
    },
    {
      "cell_type": "code",
      "source": [
        "# Resolver el modelo\n",
        "%%capture\n",
        "SolverFactory('cbc').solve(model, tee=True).write()"
      ],
      "metadata": {
        "id": "SBUGjjkmO_2n"
      },
      "execution_count": null,
      "outputs": []
    },
    {
      "cell_type": "code",
      "source": [
        "# Mostrar la solución\n",
        "print(\"---------------------------------------------\")\n",
        "print(\"Solución\")\n",
        "print(\"---------------------------------------------\")\n",
        "\n",
        "print('\\nFunción objetivo:')\n",
        "print('Z = ', model.profit())\n",
        "\n",
        "print('\\nVariables de decisión:')\n",
        "print('x1 = ', model.x1.value)\n",
        "print('x2 = ', model.x2.value)\n",
        "print('x3 = ', model.x3.value)\n",
        "\n",
        "print(\"---------------------------------------------\")"
      ],
      "metadata": {
        "id": "Pc4AE_TKPS2W",
        "colab": {
          "base_uri": "https://localhost:8080/"
        },
        "outputId": "e8fa064c-ddb6-488b-b0f5-847fe55da6c2"
      },
      "execution_count": null,
      "outputs": [
        {
          "output_type": "stream",
          "name": "stdout",
          "text": [
            "---------------------------------------------\n",
            "Solución\n",
            "---------------------------------------------\n",
            "\n",
            "Función objetivo:\n",
            "Z =  150.0\n",
            "\n",
            "Variables de decisión:\n",
            "x1 =  30.0\n",
            "x2 =  0.0\n",
            "x3 =  0.0\n",
            "---------------------------------------------\n"
          ]
        }
      ]
    },
    {
      "cell_type": "markdown",
      "source": [
        "---\n",
        "\n",
        "##2. Problema dual\n",
        "---"
      ],
      "metadata": {
        "id": "aG5PIGNSG-0s"
      }
    }
  ]
}