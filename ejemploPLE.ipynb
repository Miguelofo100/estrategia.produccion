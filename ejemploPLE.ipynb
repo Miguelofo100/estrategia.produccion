{
  "nbformat": 4,
  "nbformat_minor": 0,
  "metadata": {
    "colab": {
      "provenance": [],
      "toc_visible": true,
      "include_colab_link": true
    },
    "kernelspec": {
      "name": "python3",
      "display_name": "Python 3"
    },
    "language_info": {
      "name": "python"
    }
  },
  "cells": [
    {
      "cell_type": "markdown",
      "metadata": {
        "id": "view-in-github",
        "colab_type": "text"
      },
      "source": [
        "<a href=\"https://colab.research.google.com/github/Miugleofo100/estrategia.produccion/blob/main-3/ejemploPLE.ipynb\" target=\"_parent\"><img src=\"https://colab.research.google.com/assets/colab-badge.svg\" alt=\"Open In Colab\"/></a>"
      ]
    },
    {
      "cell_type": "markdown",
      "source": [
        "<font size=6 color=\"#0098CD\">\n",
        "Programación lineal entera (PLE)\n",
        "</font>"
      ],
      "metadata": {
        "id": "JgKYStznHyuN"
      }
    },
    {
      "cell_type": "markdown",
      "source": [
        "---\n",
        "\n",
        "##1. Problema relajado (Tema 6, página 10)\n",
        "---"
      ],
      "metadata": {
        "id": "ohGhL7aTIN5x"
      }
    },
    {
      "cell_type": "markdown",
      "source": [
        "![PErelajado.png](data:image/png;base64,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)"
      ],
      "metadata": {
        "id": "SGO_IqkjdySU"
      }
    },
    {
      "cell_type": "code",
      "source": [
        "%%capture\n",
        "!pip install -q pyomo\n",
        "!apt-get install -y -qq coinor-cbc"
      ],
      "metadata": {
        "id": "grMAwcxbkQij"
      },
      "execution_count": null,
      "outputs": []
    },
    {
      "cell_type": "code",
      "source": [
        "from pyomo.environ import *\n",
        "\n",
        "# Crear un modelo\n",
        "model = ConcreteModel()\n",
        "\n",
        "# Declarar las variables de decisión\n",
        "model.x1 = \n",
        "model.x2 = \n",
        "\n",
        "# Definir la función objetivo\n",
        "model.profit = \n",
        "\n",
        "# Definir las restricciones\n",
        "model.r1 = \n",
        "model.r2 = \n",
        "model.r3 = \n",
        "\n",
        "# Verificar el modelo\n",
        "model.pprint()"
      ],
      "metadata": {
        "id": "9IL5s-XZOFFe"
      },
      "execution_count": null,
      "outputs": []
    },
    {
      "cell_type": "code",
      "source": [
        "# Resolver el modelo\n",
        "%%capture\n",
        "SolverFactory('cbc').solve(model, tee=True).write()"
      ],
      "metadata": {
        "id": "SBUGjjkmO_2n"
      },
      "execution_count": null,
      "outputs": []
    },
    {
      "cell_type": "code",
      "source": [
        "# Mostrar la solución\n",
        "print(\"---------------------------------------------\")\n",
        "print(\"Solución\")\n",
        "print(\"---------------------------------------------\")\n",
        "\n",
        "print('\\nFunción objetivo:')\n",
        "print('Z = ', model.profit())\n",
        "\n",
        "print('\\nVariables de decisión:')\n",
        "print('x1 = ', model.x1.value)\n",
        "print('x2 = ', model.x2.value)\n",
        "\n",
        "print(\"---------------------------------------------\")"
      ],
      "metadata": {
        "id": "Pc4AE_TKPS2W"
      },
      "execution_count": null,
      "outputs": []
    },
    {
      "cell_type": "markdown",
      "source": [
        "---\n",
        "\n",
        "##2. Problema entero (Tema 6, página 10)\n",
        "---"
      ],
      "metadata": {
        "id": "aG5PIGNSG-0s"
      }
    },
    {
      "cell_type": "markdown",
      "source": [
        "![PE.png](data:image/png;base64,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)"
      ],
      "metadata": {
        "id": "nbi980vOdxeT"
      }
    },
    {
      "cell_type": "code",
      "source": [
        "from pyomo.environ import *\n",
        "\n",
        "# Crear un modelo\n",
        "model = ConcreteModel()\n",
        "\n",
        "# Declarar las variables de decisión\n",
        "model.x1 = \n",
        "model.x2 = \n",
        "\n",
        "# Definir la función objetivo\n",
        "model.profit = \n",
        "\n",
        "# Definir las restricciones\n",
        "model.r1 = \n",
        "model.r2 = \n",
        "model.r3 = \n",
        "\n",
        "# Verificar el modelo\n",
        "model.pprint()"
      ],
      "metadata": {
        "id": "sEWoC1zbcbHq"
      },
      "execution_count": null,
      "outputs": []
    },
    {
      "cell_type": "code",
      "source": [
        "# Resolver el modelo\n",
        "%%capture\n",
        "SolverFactory('cbc').solve(model, tee=True).write()"
      ],
      "metadata": {
        "id": "_EnANIQAct8Y"
      },
      "execution_count": null,
      "outputs": []
    },
    {
      "cell_type": "code",
      "source": [
        "# Mostrar la solución\n",
        "print(\"---------------------------------------------\")\n",
        "print(\"Solución\")\n",
        "print(\"---------------------------------------------\")\n",
        "\n",
        "print('\\nFunción objetivo:')\n",
        "print('Z = ', model.profit())\n",
        "\n",
        "print('\\nVariables de decisión:')\n",
        "print('x1 = ', model.x1.value)\n",
        "print('x2 = ', model.x2.value)\n",
        "\n",
        "print(\"---------------------------------------------\")"
      ],
      "metadata": {
        "id": "VPyoz4yRc0CI"
      },
      "execution_count": null,
      "outputs": []
    }
  ]
}