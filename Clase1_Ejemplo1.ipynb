{
  "nbformat": 4,
  "nbformat_minor": 0,
  "metadata": {
    "colab": {
      "provenance": [],
      "include_colab_link": true
    },
    "kernelspec": {
      "name": "python3",
      "display_name": "Python 3"
    },
    "language_info": {
      "name": "python"
    }
  },
  "cells": [
    {
      "cell_type": "markdown",
      "metadata": {
        "id": "view-in-github",
        "colab_type": "text"
      },
      "source": [
        "<a href=\"https://colab.research.google.com/github/Miugleofo100/estrategia.produccion/blob/main-1/Clase1_Ejemplo1.ipynb\" target=\"_parent\"><img src=\"https://colab.research.google.com/assets/colab-badge.svg\" alt=\"Open In Colab\"/></a>"
      ]
    },
    {
      "cell_type": "code",
      "execution_count": null,
      "metadata": {
        "id": "y4OkUCdDYDTt"
      },
      "outputs": [],
      "source": [
        "%%capture\n",
        "!pip install -q pyomo\n",
        "!apt-get install -y -qq coinor-cbc"
      ]
    },
    {
      "cell_type": "code",
      "source": [
        "from pyomo.environ import *"
      ],
      "metadata": {
        "id": "y9RwGNl-YkDk"
      },
      "execution_count": null,
      "outputs": []
    },
    {
      "cell_type": "code",
      "source": [
        "# Crear un modelo\n",
        "modelo = ConcreteModel()\n",
        "\n",
        "# Definir las variables de decisión\n",
        "modelo.x1 = Var(domain=NonNegativeReals)\n",
        "modelo.x2 = Var(domain=NonNegativeReals)\n",
        "\n",
        "# Definir función objetivo\n",
        "modelo.profit = Objective(expr = 3*modelo.x1 + 5*modelo.x2, sense=maximize)\n",
        "\n",
        "# Definir las restricciones\n",
        "modelo.planta1 = Constraint(expr = modelo.x1 <= 4)\n",
        "modelo.planta2 = Constraint(expr = 2*modelo.x2 <= 12)\n",
        "modelo.planta3 = Constraint(expr = 3*modelo.x1 + 2*modelo.x2 <= 18)\n",
        "\n",
        "# Verificación del modelo\n",
        "modelo.pprint()"
      ],
      "metadata": {
        "colab": {
          "base_uri": "https://localhost:8080/"
        },
        "id": "1Rez1uzeZAzz",
        "outputId": "a69f218c-c58b-4244-da54-331ab1ae5f80"
      },
      "execution_count": null,
      "outputs": [
        {
          "output_type": "stream",
          "name": "stdout",
          "text": [
            "2 Var Declarations\n",
            "    x1 : Size=1, Index=None\n",
            "        Key  : Lower : Value : Upper : Fixed : Stale : Domain\n",
            "        None :     0 :  None :  None : False :  True : NonNegativeReals\n",
            "    x2 : Size=1, Index=None\n",
            "        Key  : Lower : Value : Upper : Fixed : Stale : Domain\n",
            "        None :     0 :  None :  None : False :  True : NonNegativeReals\n",
            "\n",
            "1 Objective Declarations\n",
            "    profit : Size=1, Index=None, Active=True\n",
            "        Key  : Active : Sense    : Expression\n",
            "        None :   True : maximize : 3*x1 + 5*x2\n",
            "\n",
            "3 Constraint Declarations\n",
            "    planta1 : Size=1, Index=None, Active=True\n",
            "        Key  : Lower : Body : Upper : Active\n",
            "        None :  -Inf :   x1 :   4.0 :   True\n",
            "    planta2 : Size=1, Index=None, Active=True\n",
            "        Key  : Lower : Body : Upper : Active\n",
            "        None :  -Inf : 2*x2 :  12.0 :   True\n",
            "    planta3 : Size=1, Index=None, Active=True\n",
            "        Key  : Lower : Body        : Upper : Active\n",
            "        None :  -Inf : 3*x1 + 2*x2 :  18.0 :   True\n",
            "\n",
            "6 Declarations: x1 x2 profit planta1 planta2 planta3\n"
          ]
        }
      ]
    },
    {
      "cell_type": "code",
      "source": [
        "# Solución del problema de PL\n",
        "%%capture\n",
        "SolverFactory('cbc').solve(modelo, tee=True).write()"
      ],
      "metadata": {
        "id": "uhSByWh1ZUHq"
      },
      "execution_count": null,
      "outputs": []
    },
    {
      "cell_type": "code",
      "source": [
        "# Mostrar la solución\n",
        "print('-----------------------------------')\n",
        "print(\"Solución\")\n",
        "print('-----------------------------------')\n",
        "print(\"\\nFunción objetivo:\")\n",
        "print(\"Z =\", 1000*modelo.profit(), \"dólares\")\n",
        "\n",
        "print(\"\\nVariables de decisión:\")\n",
        "print(\"x1 =\", modelo.x1.value, \"lotes por semana\")\n",
        "print(\"x2 =\", modelo.x2.value, \"lotes por semana\")\n",
        "\n",
        "print(\"\\nRestricciones:\")\n",
        "print(\"Planta 1 =\", modelo.planta1(), \"horas semanales\")\n",
        "print(\"Planta 2 =\", modelo.planta2(), \"horas semanales\")\n",
        "print(\"Planta 3 =\", modelo.planta3(), \"horas semanales\")"
      ],
      "metadata": {
        "colab": {
          "base_uri": "https://localhost:8080/"
        },
        "id": "hIJo8CcOdT8J",
        "outputId": "51b2a6b1-fff5-4801-dc83-79473d212d48"
      },
      "execution_count": null,
      "outputs": [
        {
          "output_type": "stream",
          "name": "stdout",
          "text": [
            "-----------------------------------\n",
            "Solución\n",
            "-----------------------------------\n",
            "\n",
            "Función objetivo:\n",
            "Z = 36000.0 dólares\n",
            "\n",
            "Variables de decisión:\n",
            "x1 = 2.0 lotes por semana\n",
            "x2 = 6.0 lotes por semana\n",
            "\n",
            "Restricciones:\n",
            "Planta 1 = 2.0 horas semanales\n",
            "Planta 2 = 12.0 horas semanales\n",
            "Planta 3 = 18.0 horas semanales\n"
          ]
        }
      ]
    },
    {
      "cell_type": "code",
      "source": [],
      "metadata": {
        "id": "-TNPmPjueHz0"
      },
      "execution_count": null,
      "outputs": []
    }
  ]
}