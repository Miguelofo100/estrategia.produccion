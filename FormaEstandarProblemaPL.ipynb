{
  "nbformat": 4,
  "nbformat_minor": 0,
  "metadata": {
    "colab": {
      "provenance": [],
      "toc_visible": true,
      "include_colab_link": true
    },
    "kernelspec": {
      "name": "python3",
      "display_name": "Python 3"
    },
    "language_info": {
      "name": "python"
    }
  },
  "cells": [
    {
      "cell_type": "markdown",
      "metadata": {
        "id": "view-in-github",
        "colab_type": "text"
      },
      "source": [
        "<a href=\"https://colab.research.google.com/github/Miugleofo100/estrategia.produccion/blob/main-3/FormaEstandarProblemaPL.ipynb\" target=\"_parent\"><img src=\"https://colab.research.google.com/assets/colab-badge.svg\" alt=\"Open In Colab\"/></a>"
      ]
    },
    {
      "cell_type": "markdown",
      "source": [
        "<font size=6 color=\"#0098CD\">\n",
        "Forma estándar de un problema de programación lineal\n",
        "</font>"
      ],
      "metadata": {
        "id": "JgKYStznHyuN"
      }
    },
    {
      "cell_type": "markdown",
      "source": [
        "---\n",
        "\n",
        "##1. Planteamiento inicial.\n",
        "---"
      ],
      "metadata": {
        "id": "ohGhL7aTIN5x"
      }
    },
    {
      "cell_type": "code",
      "source": [
        "%%capture\n",
        "!pip install -q pyomo\n",
        "!apt-get install -y -qq coinor-cbc"
      ],
      "metadata": {
        "id": "grMAwcxbkQij"
      },
      "execution_count": null,
      "outputs": []
    },
    {
      "cell_type": "code",
      "source": [
        "from pyomo.environ import *\n",
        "\n",
        "# Crear un modelo\n",
        "model = ConcreteModel()\n",
        "\n",
        "# Declarar las variables de decisión\n",
        "model.x1 = Var(domain=NonNegativeReals)\n",
        "model.x2 = Var(domain=Reals)\n",
        "model.x3 = Var(domain=NonNegativeReals)\n",
        "model.x4 = Var(domain=NonNegativeReals)\n",
        "\n",
        "# Definir la función objetivo\n",
        "model.profit = Objective(expr = model.x1 + 2*model.x2 + model.x4, sense=maximize)\n",
        "\n",
        "# Definir las restricciones\n",
        "model.r1 = Constraint(expr = model.x1 + 2*model.x2 + model.x3 + 5*model.x4 <= 40)\n",
        "model.r2 = Constraint(expr = model.x1 + 3*model.x2 + model.x3 + 4*model.x4 == 30)\n",
        "model.r3 = Constraint(expr = model.x1 + 4*model.x2 + model.x3  >= 15)\n",
        "\n",
        "# Verificar el modelo\n",
        "model.pprint()"
      ],
      "metadata": {
        "id": "9IL5s-XZOFFe",
        "colab": {
          "base_uri": "https://localhost:8080/"
        },
        "outputId": "3786e821-ae7d-4cdb-aa51-b95c89d21433"
      },
      "execution_count": null,
      "outputs": [
        {
          "output_type": "stream",
          "name": "stdout",
          "text": [
            "4 Var Declarations\n",
            "    x1 : Size=1, Index=None\n",
            "        Key  : Lower : Value : Upper : Fixed : Stale : Domain\n",
            "        None :     0 :  None :  None : False :  True : NonNegativeReals\n",
            "    x2 : Size=1, Index=None\n",
            "        Key  : Lower : Value : Upper : Fixed : Stale : Domain\n",
            "        None :  None :  None :  None : False :  True :  Reals\n",
            "    x3 : Size=1, Index=None\n",
            "        Key  : Lower : Value : Upper : Fixed : Stale : Domain\n",
            "        None :     0 :  None :  None : False :  True : NonNegativeReals\n",
            "    x4 : Size=1, Index=None\n",
            "        Key  : Lower : Value : Upper : Fixed : Stale : Domain\n",
            "        None :     0 :  None :  None : False :  True : NonNegativeReals\n",
            "\n",
            "1 Objective Declarations\n",
            "    profit : Size=1, Index=None, Active=True\n",
            "        Key  : Active : Sense    : Expression\n",
            "        None :   True : maximize : x1 + 2*x2 + x4\n",
            "\n",
            "3 Constraint Declarations\n",
            "    r1 : Size=1, Index=None, Active=True\n",
            "        Key  : Lower : Body                  : Upper : Active\n",
            "        None :  -Inf : x1 + 2*x2 + x3 + 5*x4 :  40.0 :   True\n",
            "    r2 : Size=1, Index=None, Active=True\n",
            "        Key  : Lower : Body                  : Upper : Active\n",
            "        None :  30.0 : x1 + 3*x2 + x3 + 4*x4 :  30.0 :   True\n",
            "    r3 : Size=1, Index=None, Active=True\n",
            "        Key  : Lower : Body           : Upper : Active\n",
            "        None :  15.0 : x1 + 4*x2 + x3 :  +Inf :   True\n",
            "\n",
            "8 Declarations: x1 x2 x3 x4 profit r1 r2 r3\n"
          ]
        }
      ]
    },
    {
      "cell_type": "code",
      "source": [
        "# Resolver el modelo\n",
        "%%capture\n",
        "SolverFactory('cbc').solve(model, tee=True).write()"
      ],
      "metadata": {
        "id": "SBUGjjkmO_2n"
      },
      "execution_count": null,
      "outputs": []
    },
    {
      "cell_type": "code",
      "source": [
        "# Mostrar la solución\n",
        "print(\"---------------------------------------------\")\n",
        "print(\"Solución\")\n",
        "print(\"---------------------------------------------\")\n",
        "\n",
        "print('\\nFunción objetivo:')\n",
        "print('Z = ', model.profit())\n",
        "\n",
        "print('\\nVariables de decisión:')\n",
        "print('x1 = ', model.x1.value)\n",
        "print('x2 = ', model.x2.value)\n",
        "print('x3 = ', model.x3.value)\n",
        "print('x4 = ', model.x4.value)\n",
        "\n",
        "print(\"---------------------------------------------\")"
      ],
      "metadata": {
        "id": "Pc4AE_TKPS2W",
        "colab": {
          "base_uri": "https://localhost:8080/"
        },
        "outputId": "1e5debee-180d-41f6-d0ae-a4ac62aa1d12"
      },
      "execution_count": null,
      "outputs": [
        {
          "output_type": "stream",
          "name": "stdout",
          "text": [
            "---------------------------------------------\n",
            "Solución\n",
            "---------------------------------------------\n",
            "\n",
            "Función objetivo:\n",
            "Z =  40.0\n",
            "\n",
            "Variables de decisión:\n",
            "x1 =  60.0\n",
            "x2 =  -10.0\n",
            "x3 =  0.0\n",
            "x4 =  0.0\n",
            "---------------------------------------------\n"
          ]
        }
      ]
    },
    {
      "cell_type": "markdown",
      "source": [
        "---\n",
        "\n",
        "##2. Problema en forma estándar\n",
        "---"
      ],
      "metadata": {
        "id": "aG5PIGNSG-0s"
      }
    },
    {
      "cell_type": "code",
      "source": [
        "# Crear un modelo\n",
        "model = ConcreteModel()\n",
        "\n",
        "# Declarar las variables de decisión\n",
        "model.x1 = Var(domain=NonNegativeReals)\n",
        "model.x2p = Var(domain=NonNegativeReals)\n",
        "model.x2pp = Var(domain=NonNegativeReals)\n",
        "model.x3 = Var(domain=NonNegativeReals)\n",
        "model.x4 = Var(domain=NonNegativeReals)\n",
        "model.x5 = Var(domain=NonNegativeReals)\n",
        "model.x6 = Var(domain=NonNegativeReals)\n",
        "\n",
        "# Definir la función objetivo\n",
        "model.profit = Objective(expr = -model.x1 - 2*model.x2p + 2*model.x2pp - model.x4, sense=minimize)\n",
        "\n",
        "# Definir las restricciones\n",
        "model.r1 = Constraint(expr = model.x1 + 2*model.x2p - 2*model.x2pp + model.x3 + 5*model.x4 + model.x5 == 40)\n",
        "model.r2 = Constraint(expr = model.x1 + 3*model.x2p - 3*model.x2pp + model.x3 + 4*model.x4 == 30)\n",
        "model.r3 = Constraint(expr = model.x1 + 4*model.x2p - 4*model.x2pp + model.x3 - model.x6  == 15)\n",
        "\n",
        "# Verificar el modelo\n",
        "model.pprint()"
      ],
      "metadata": {
        "id": "yhSe0F1SHEkH",
        "colab": {
          "base_uri": "https://localhost:8080/"
        },
        "outputId": "61591318-741d-49c5-93ee-68b17fe960c0"
      },
      "execution_count": null,
      "outputs": [
        {
          "output_type": "stream",
          "name": "stdout",
          "text": [
            "7 Var Declarations\n",
            "    x1 : Size=1, Index=None\n",
            "        Key  : Lower : Value : Upper : Fixed : Stale : Domain\n",
            "        None :     0 :  None :  None : False :  True : NonNegativeReals\n",
            "    x2p : Size=1, Index=None\n",
            "        Key  : Lower : Value : Upper : Fixed : Stale : Domain\n",
            "        None :     0 :  None :  None : False :  True : NonNegativeReals\n",
            "    x2pp : Size=1, Index=None\n",
            "        Key  : Lower : Value : Upper : Fixed : Stale : Domain\n",
            "        None :     0 :  None :  None : False :  True : NonNegativeReals\n",
            "    x3 : Size=1, Index=None\n",
            "        Key  : Lower : Value : Upper : Fixed : Stale : Domain\n",
            "        None :     0 :  None :  None : False :  True : NonNegativeReals\n",
            "    x4 : Size=1, Index=None\n",
            "        Key  : Lower : Value : Upper : Fixed : Stale : Domain\n",
            "        None :     0 :  None :  None : False :  True : NonNegativeReals\n",
            "    x5 : Size=1, Index=None\n",
            "        Key  : Lower : Value : Upper : Fixed : Stale : Domain\n",
            "        None :     0 :  None :  None : False :  True : NonNegativeReals\n",
            "    x6 : Size=1, Index=None\n",
            "        Key  : Lower : Value : Upper : Fixed : Stale : Domain\n",
            "        None :     0 :  None :  None : False :  True : NonNegativeReals\n",
            "\n",
            "1 Objective Declarations\n",
            "    profit : Size=1, Index=None, Active=True\n",
            "        Key  : Active : Sense    : Expression\n",
            "        None :   True : minimize : - x1 - 2*x2p + 2*x2pp - x4\n",
            "\n",
            "3 Constraint Declarations\n",
            "    r1 : Size=1, Index=None, Active=True\n",
            "        Key  : Lower : Body                                 : Upper : Active\n",
            "        None :  40.0 : x1 + 2*x2p - 2*x2pp + x3 + 5*x4 + x5 :  40.0 :   True\n",
            "    r2 : Size=1, Index=None, Active=True\n",
            "        Key  : Lower : Body                            : Upper : Active\n",
            "        None :  30.0 : x1 + 3*x2p - 3*x2pp + x3 + 4*x4 :  30.0 :   True\n",
            "    r3 : Size=1, Index=None, Active=True\n",
            "        Key  : Lower : Body                          : Upper : Active\n",
            "        None :  15.0 : x1 + 4*x2p - 4*x2pp + x3 - x6 :  15.0 :   True\n",
            "\n",
            "11 Declarations: x1 x2p x2pp x3 x4 x5 x6 profit r1 r2 r3\n"
          ]
        }
      ]
    },
    {
      "cell_type": "code",
      "source": [
        "# Resolver el modelo\n",
        "%%capture\n",
        "SolverFactory('cbc').solve(model, tee=True).write()"
      ],
      "metadata": {
        "id": "n5sKxSIQeNaj"
      },
      "execution_count": null,
      "outputs": []
    },
    {
      "cell_type": "code",
      "source": [
        "# Mostrar la solución\n",
        "print(\"---------------------------------------------\")\n",
        "print(\"Solución\")\n",
        "print(\"---------------------------------------------\")\n",
        "\n",
        "print('\\nFunción objetivo:')\n",
        "print('Z = ', model.profit())\n",
        "\n",
        "print('\\nVariables de decisión:')\n",
        "print('x1 = ', model.x1.value)\n",
        "print('x2p = ', model.x2p.value)\n",
        "print('x2pp = ', model.x2pp.value)\n",
        "print('x3 = ', model.x3.value)\n",
        "print('x4 = ', model.x4.value)\n",
        "print('x5 = ', model.x4.value)\n",
        "print('x6 = ', model.x4.value)\n",
        "\n",
        "print(\"---------------------------------------------\")"
      ],
      "metadata": {
        "colab": {
          "base_uri": "https://localhost:8080/"
        },
        "id": "9P3-IEKte2Mp",
        "outputId": "d69f0082-ee4b-4be1-fe9a-86b7ddb083d5"
      },
      "execution_count": null,
      "outputs": [
        {
          "output_type": "stream",
          "name": "stdout",
          "text": [
            "---------------------------------------------\n",
            "Solución\n",
            "---------------------------------------------\n",
            "\n",
            "Función objetivo:\n",
            "Z =  -40.0\n",
            "\n",
            "Variables de decisión:\n",
            "x1 =  60.0\n",
            "x2p =  0.0\n",
            "x2pp =  10.0\n",
            "x3 =  0.0\n",
            "x4 =  0.0\n",
            "x5 =  0.0\n",
            "x6 =  0.0\n",
            "---------------------------------------------\n"
          ]
        }
      ]
    },
    {
      "cell_type": "code",
      "source": [],
      "metadata": {
        "id": "cNindcvAfD6r"
      },
      "execution_count": null,
      "outputs": []
    }
  ]
}